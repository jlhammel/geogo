{
 "cells": [
  {
   "cell_type": "markdown",
   "id": "0",
   "metadata": {},
   "source": [
    "## Storm WMS Analysis "
   ]
  },
  {
   "cell_type": "markdown",
   "id": "1",
   "metadata": {},
   "source": [
    "[![Open In Colab](https://colab.research.google.com/assets/colab-badge.svg)](https://colab.research.google.com/github/jlhammel/geogo/blob/main/docs/examples/stormwms.ipynb)"
   ]
  },
  {
   "cell_type": "markdown",
   "id": "2",
   "metadata": {},
   "source": [
    "Geogo allows you to use WMS data from NASA GIBS to analyse things such as precipitation, vegetation indices and population at the time of a hurricane. You can also change the date of the WMS layer by changing the time variable using the \"year-month-date\" format for the date. "
   ]
  },
  {
   "cell_type": "code",
   "execution_count": null,
   "id": "3",
   "metadata": {},
   "outputs": [],
   "source": [
    "import geogo"
   ]
  },
  {
   "cell_type": "markdown",
   "id": "4",
   "metadata": {},
   "source": [
    "Precipitation:"
   ]
  },
  {
   "cell_type": "code",
   "execution_count": null,
   "id": "5",
   "metadata": {},
   "outputs": [],
   "source": [
    "m = geogo.Map()\n",
    "m.add_time_wms_layer(\n",
    "    layers=\"AMSRE_Surface_Precipitation_Rate_Day\", time=\"2005-07-04\", name=\"NASA\"\n",
    ")\n",
    "m"
   ]
  },
  {
   "cell_type": "code",
   "execution_count": null,
   "id": "6",
   "metadata": {},
   "outputs": [],
   "source": [
    "m = geogo.Map()\n",
    "m.add_time_wms_layer(layers=\"AIRS_Precipitation_Day\", time=\"2024-10-04\", name=\"NASA\")\n",
    "m.add_tropycal_storm((\"helene\", 2024))\n",
    "m"
   ]
  },
  {
   "cell_type": "code",
   "execution_count": null,
   "id": "7",
   "metadata": {},
   "outputs": [],
   "source": [
    "url = \"https://github.com/opengeos/datasets/releases/download/us/us_states.zip\""
   ]
  },
  {
   "cell_type": "code",
   "execution_count": null,
   "id": "8",
   "metadata": {},
   "outputs": [],
   "source": [
    "m = geogo.Map()\n",
    "m.add_time_wms_layer(\n",
    "    layers=\"AMSRE_Surface_Precipitation_Rate_Day\", time=\"2024-10-04\", name=\"NASA\"\n",
    ")\n",
    "m.add_shp(\n",
    "    url,\n",
    "    zoom_to_layer=False,\n",
    "    name=\"U.S. States\",\n",
    "    style={\"color\": \"black\", \"fillOpacity\": 0},\n",
    "    hover_style={},\n",
    ")\n",
    "m.add_storm_wg()\n",
    "m"
   ]
  },
  {
   "cell_type": "markdown",
   "id": "9",
   "metadata": {},
   "source": [
    "Vegetation Indices"
   ]
  },
  {
   "cell_type": "code",
   "execution_count": null,
   "id": "10",
   "metadata": {},
   "outputs": [],
   "source": [
    "m = geogo.Map()\n",
    "m.add_time_wms_layer(layers=\"MODIS_Aqua_L3_EVI_16Day\", time=\"2005-07-04\", name=\"NASA\")\n",
    "m.add_shp(\n",
    "    url,\n",
    "    zoom_to_layer=False,\n",
    "    name=\"U.S. States\",\n",
    "    style={\"color\": \"black\", \"fillOpacity\": 0},\n",
    "    hover_style={},\n",
    ")\n",
    "m.add_storm_wg()\n",
    "m"
   ]
  }
 ],
 "metadata": {
  "kernelspec": {
   "display_name": "class",
   "language": "python",
   "name": "python3"
  },
  "language_info": {
   "codemirror_mode": {
    "name": "ipython",
    "version": 3
   },
   "file_extension": ".py",
   "mimetype": "text/x-python",
   "name": "python",
   "nbconvert_exporter": "python",
   "pygments_lexer": "ipython3",
   "version": "3.12.9"
  }
 },
 "nbformat": 4,
 "nbformat_minor": 5
}
